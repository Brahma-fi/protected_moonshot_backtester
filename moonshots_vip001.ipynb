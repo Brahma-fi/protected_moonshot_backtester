{
 "cells": [
  {
   "cell_type": "code",
   "execution_count": 1,
   "id": "mechanical-genetics",
   "metadata": {},
   "outputs": [],
   "source": [
    "import time\n",
    "import numpy as np\n",
    "import pandas as pd\n",
    "import matplotlib.pyplot as plt\n",
    "from scipy.stats import norm\n",
    "from datetime import datetime\n",
    "\n",
    "import utils\n",
    "from option_utils import blackScholesPrice, runOptionBacktest\n",
    "from perp_utils import runPerpBacktest, checkPerpExit"
   ]
  },
  {
   "cell_type": "markdown",
   "id": "portuguese-cutting",
   "metadata": {},
   "source": [
    "# Import Data"
   ]
  },
  {
   "cell_type": "code",
   "execution_count": 2,
   "id": "emerging-emperor",
   "metadata": {},
   "outputs": [],
   "source": [
    "#deribit DVOL historical data\n",
    "dvol_raw = pd.read_csv(\"data/deribitETH_DVOL_1609452000_1646863200.csv\")\n",
    "dvol_raw = dvol_raw.iloc[24*2:,:] #start data on Friday\n",
    "\n",
    "hourly_dvol,weekly_dvol = utils.dvolTransformer(dvol_raw)\n",
    "\n",
    "#FTX price data\n",
    "ftx_raw = pd.read_csv(\"data/ftx_PriceDataETH-PERP_1614906000_1646645961.csv\")\n",
    "ftx_raw = ftx_raw[ (pd.to_datetime(ftx_raw.startTime)>=hourly_dvol.index[0])\n",
    "                  & (pd.to_datetime(ftx_raw.startTime)<=hourly_dvol.index[-1]) ]\n",
    "\n",
    "hourly_data,weekly_data = utils.ftxTransformer(ftx_raw)\n",
    "\n",
    "\n",
    "#ETH 1week atm IV data\n",
    "skew_data_raw = pd.read_csv(\"data/skew_eth_atm_implied_volatility.csv\")\n",
    "skew_data_raw = skew_data_raw[ (pd.to_datetime(skew_data_raw.DateTime,utc=True)>=hourly_dvol.index[0])  & (pd.to_datetime(skew_data_raw.DateTime,utc=True)<=hourly_dvol.index[-1]) ]\n",
    "hourly_skew_data,weekly_skew_data = utils.skewDataTransformer(skew_data_raw)\n",
    "\n",
    "\n"
   ]
  },
  {
   "cell_type": "markdown",
   "id": "hindu-scout",
   "metadata": {},
   "source": [
    "### Implied Volatility Data\n",
    "In order to backtest any option strategy, ones needs historical implied volatility data. We examine two sources, Deribit ETH DVOL volatility index and 1week atm Implied Volatility data. "
   ]
  },
  {
   "cell_type": "code",
   "execution_count": 3,
   "id": "otherwise-hamilton",
   "metadata": {},
   "outputs": [
    {
     "data": {
      "image/png": "[encoded data removed]",
      "text/plain": [
       "<Figure size 432x288 with 1 Axes>"
      ]
     },
     "metadata": {
      "needs_background": "light"
     },
     "output_type": "display_data"
    }
   ],
   "source": [
    "#Plot compare DVOL and 1weekATM implied volatilities\n",
    "plt.plot(hourly_dvol.dvol_close,color='b')\n",
    "plt.plot(hourly_skew_data.close,color='g')\n",
    "plt.legend(['DVOL','1wkATM'])\n",
    "plt.show()"
   ]
  },
  {
   "cell_type": "markdown",
   "id": "artificial-forward",
   "metadata": {},
   "source": [
    "DVOL is vix like volatility index and uses a variance swap like formula i.e. it takes into account the implied volatility of the entire skew. Since ETH options tend to trade on a smile (otm put and call iv's are higher than atm iv's) DVOL will typically be higher than the current ATM IV. This can be seen in the chart. It can also be considered a fear-measure.\n",
    "\n",
    "We therefore stick to using 1week ATM implied volatility data for our testing of option based strategies since this will give a better indication of where close to atm options can be purchased and sold at a point in time"
   ]
  },
  {
   "cell_type": "code",
   "execution_count": 4,
   "id": "divided-following",
   "metadata": {},
   "outputs": [],
   "source": [
    "#Create Additional Required Data\n",
    "#Generate data and then add to weeklyData Dataframe (the central price data input)\n",
    "\n",
    "#Simple Moving Average\n",
    "#get moving average for vectorised momentum signal calculation\n",
    "daily_data = hourly_data.close.resample('1d',offset = '8h',label='right').last()\n",
    "moving_avg = daily_data.rolling('5d').mean().shift().rename('movingAvg')\n",
    "\n",
    "weekly_data['moving_avg'] = moving_avg.resample('7d', offset='8h',label='left').first().shift()\n",
    "\n",
    "\n",
    "#Realised volatility\n",
    "rv = (np.log(1+daily_data.pct_change()).rolling('7d').std()*np.sqrt(365)).rename('realised_volatilty')\n",
    "#Realised volality of the precending 7days\n",
    "weekly_rv = rv.resample('7d', offset='8h',label='left').first()\n",
    "\n",
    "#dates in weeklyData DF are the weekly EndDates\n",
    "weekly_data['realised_vol_end'] = weekly_rv\n",
    "#shifting weeklyRV gives us the Realised Volatility of the 7days precending the start of the week\n",
    "weekly_data['realised_vol_start'] = weekly_rv.shift() \n",
    "\n",
    "#drop first week, not a full week \n",
    "weekly_data.drop(index=weekly_data.index[0], \n",
    "        axis=0, \n",
    "        inplace=True)\n"
   ]
  },
  {
   "cell_type": "markdown",
   "id": "rational-community",
   "metadata": {},
   "source": [
    "# Backtest\n",
    "\n",
    "Currently the Protected Moonshot Vault runs an enhanced perpetual future strategy (enhanced here is continuously monitored take profit and stop loss levels). We start by comparing the existing perp strategy (the simple and enhanced one) to that of an option strategy. \n",
    "\n",
    "We keep our signalling logic the same as it is currently, a momentum signal based on a simple moving average. Importantly the same signalling logic is used for both the option and perp backtest to ensure consist results. "
   ]
  },
  {
   "cell_type": "code",
   "execution_count": 5,
   "id": "accessory-powder",
   "metadata": {},
   "outputs": [
    {
     "name": "stdout",
     "output_type": "stream",
     "text": [
      "Trading Alpha APR% denominated in USD for perp and option strategies.\n",
      "Results for two signals shown, 100% accuracy and the simple momentum signal.\n",
      "Results using a base Yield of 12%. \n",
      "\n",
      "                100%Accurate  momentum\n",
      "SignalAccuracy          1.00      0.61\n",
      "PerpSimple              5.14     -0.86\n",
      "PerpEnhanced            7.34      2.77\n",
      "OptionBuy              13.14      2.80\n"
     ]
    }
   ],
   "source": [
    "#Perp Strategy specific params\n",
    "leverage = 8.0\n",
    "mm_min = 0.0625 # maintanence margin required for perp protocol\n",
    "take_profit = 0.20 # take profit for enhanced strat\n",
    "stop_loss = 0.05 # stop loss for enhanced strat\n",
    "\n",
    "#Option Strategy specific params\n",
    "r = 0 # r used in option pricing formula\n",
    "strike_rounding = True # whether to apply rounding to option strikes\n",
    "otm_percentage = 0 # % OTM of strike to buy/sell\n",
    "bid_offer_spread = 5.0 # IV data is mid volatilities, add vol spread to get traded vol\n",
    "\n",
    "\n",
    "#General Parameters\n",
    "capital = 100 #starting capital\n",
    "stables_yield = 0.12 # convex deposit yield\n",
    "freq = 7 #interest harvest and trade frequency (days)\n",
    "interest = capital*stables_yield*freq/365\n",
    "\n",
    "data_store = pd.DataFrame()\n",
    "\n",
    "signal_choice = ['100%Accurate','momentum']\n",
    "\n",
    "for strat in signal_choice:\n",
    "\n",
    "    # Determine weekly strategy position\n",
    "    # 1: bullish trade\n",
    "    # -1: bearish trade\n",
    "    if strat == '100%Accurate':\n",
    "        weekly_data['position'] = np.where(weekly_data.price_change>0,1,-1) #see the future\n",
    "    elif strat == 'momentum':\n",
    "        weekly_data['position'] = np.where(weekly_data.open > weekly_data.moving_avg,1,-1)\n",
    "\n",
    "        \n",
    "    perp_simple, perp_alpha = runPerpBacktest(weekly_data,hourly_data,freq,leverage,mm_min,interest,'USD','simple')\n",
    "    perp_enhanced, perp_alpha_enhanced = runPerpBacktest(weekly_data,hourly_data,freq,leverage,mm_min,interest,'USD','enhanced',take_profit,stop_loss)\n",
    "\n",
    "\n",
    "    option_buy,option_buy_alpha = runOptionBacktest(weekly_data,weekly_skew_data+bid_offer_spread/2,freq,interest,'USD',r,otm_percentage,'optionBuyer',strike_rounding)\n",
    "\n",
    "    accuracy = ((weekly_data.position * weekly_data.price_change) > 0 ).sum() / weekly_data.shape[0]\n",
    "    \n",
    "    store = pd.DataFrame.from_dict({'SignalAccuracy':accuracy,'PerpSimple':perp_alpha,'PerpEnhanced':perp_alpha_enhanced,'OptionBuy':option_buy_alpha},orient='index')\n",
    "\n",
    "    \n",
    "    store.rename(columns={0:strat},inplace=True)\n",
    "\n",
    "    data_store = pd.concat([data_store,store],axis=1)\n",
    "\n",
    "print(\"Trading Alpha APR% denominated in USD for perp and option strategies.\")\n",
    "print(\"Results for two signals shown, 100% accuracy and the simple momentum signal.\")\n",
    "print(\"Results using a base Yield of 12%. \\n\")\n",
    "\n",
    "\n",
    "print(round(data_store,2))\n"
   ]
  },
  {
   "cell_type": "markdown",
   "id": "jewish-texas",
   "metadata": {},
   "source": [
    "We note that the option strategy significantly outperforms the enhanced perp strategy when our signal is 100% accurate resulting in a more than 100% increase in the base APR. When using our momentum signal we see similar performance for both strategy with the base APR increased by more than 20%. \n",
    "\n",
    "Its clear that the option strategy has potential for outsized gains however incorrect signal direction is more costly for the option strategy as the premium paid is forfeited. \n",
    "\n",
    "We investigate further improvements to the option strategy below."
   ]
  },
  {
   "cell_type": "markdown",
   "id": "statistical-locking",
   "metadata": {},
   "source": [
    "# Weekly Option Return Analysis"
   ]
  },
  {
   "cell_type": "code",
   "execution_count": 22,
   "id": "human-indie",
   "metadata": {},
   "outputs": [
    {
     "data": {
      "image/png": "[encoded data removed]",
      "text/plain": [
       "<Figure size 432x288 with 1 Axes>"
      ]
     },
     "metadata": {
      "needs_background": "light"
     },
     "output_type": "display_data"
    },
    {
     "data": {
      "image/png": "[encoded data removed]",
      "text/plain": [
       "<Figure size 432x288 with 1 Axes>"
      ]
     },
     "metadata": {
      "needs_background": "light"
     },
     "output_type": "display_data"
    },
    {
     "data": {
      "image/png": "[encoded data removed]",
      "text/plain": [
       "<Figure size 432x288 with 1 Axes>"
      ]
     },
     "metadata": {
      "needs_background": "light"
     },
     "output_type": "display_data"
    },
    {
     "data": {
      "image/png": "[encoded data removed]",
      "text/plain": [
       "<Figure size 432x288 with 1 Axes>"
      ]
     },
     "metadata": {
      "needs_background": "light"
     },
     "output_type": "display_data"
    }
   ],
   "source": [
    "plt.scatter(abs(weekly_data.price_change),option_buy.optionReturns)\n",
    "plt.xlabel('Abs Price Move')\n",
    "plt.ylabel('OptionBuying Returns')\n",
    "plt.show()\n",
    "\n",
    "plt.scatter(option_buy.sigma_open,option_buy.optionReturns)\n",
    "plt.xlabel('Implied Volatility (IV)')\n",
    "plt.ylabel('OptionBuying Returns')\n",
    "plt.show()\n",
    "\n",
    "plt.scatter(weekly_dvol.iloc[1:,:].dvol_open/100 - weekly_data.realised_vol_start,option_buy.optionReturns)\n",
    "plt.xlabel('DVOL-RV')\n",
    "plt.ylabel('OptionBuying Returns')\n",
    "plt.show()\n",
    "\n",
    "plt.scatter(weekly_dvol.iloc[1:,:].dvol_open/100 - weekly_data.realised_vol_start,perp_enhanced.perpReturns)\n",
    "plt.xlabel('DVOL-RV')\n",
    "plt.ylabel('PerpEnhanced Returns')\n",
    "plt.show()\n"
   ]
  },
  {
   "cell_type": "markdown",
   "id": "ignored-description",
   "metadata": {},
   "source": [
    "We take particular interest in the last graph. Postive returns are clustered in middle of the DVOL - Realised Volality x-axis. On the right hand side we have areas where DVOL (a average measure of average option IVs) is much higher than realised volatility. One can say options are expensive in these areas as the market needs to move significantly more than is has been in order to just recover the option premium. In these weeks purchasing options may not be the best trade\n",
    "\n",
    "On the far left hand side we have areas where realised volatility is higher than implied volatilities - typically this means the market has just had some very large moves. In these areas it makes sense that our momentum signal will perform worst since the market is not trending in one direction but rather having fluctuations. In weeks when we have less confidence in our signal we rather not trade options given the possibility of losing the entire interest amount.\n",
    "\n",
    "We try 3 improved strategies.\n",
    "1. In weeks were the DVOL premium is an outlier we don't take any trade, in other weeks we purchase options\n",
    "2. In weeks were the DVOL premium is an outlier we don't take any trade, in other weeks we use our current perp strategy\n",
    "3. In weeks were the DVOL premium is an outlier we use our current perp strategy, in other weeks we purchase options\n"
   ]
  },
  {
   "cell_type": "code",
   "execution_count": 27,
   "id": "operating-biodiversity",
   "metadata": {},
   "outputs": [
    {
     "name": "stdout",
     "output_type": "stream",
     "text": [
      "IMPROVED STRATEGY TESTING\n",
      "Alpha APR% denominated in USD\n",
      "Results using a base Yield of 12% \n",
      "\n",
      "Perp Imprv     2.77%\n",
      "OptionBuy      2.80%\n",
      "\n",
      "OptionV2.0     4.68%\n",
      "Perp Imprv2.0  2.63%\n",
      "Options+Perp   4.76%\n"
     ]
    }
   ],
   "source": [
    "combined_strats = pd.concat([weekly_data[['price_change','position']]\n",
    "                          ,perp_enhanced['perpReturns']\n",
    "                          ,option_buy[['optionReturns','sigma_open']]\n",
    "                          ,weekly_data.realised_vol_start\n",
    "                          ,weekly_dvol.dvol_open/100]\n",
    "                        ,axis=1)\n",
    "\n",
    "\n",
    "combined_strats['iv_premium'] = combined_strats['dvol_open']-combined_strats['realised_vol_start']\n",
    "\n",
    "#we define a threshold were IV significantly varies from DVOL\n",
    "dvol_premium_threshold = 0.20\n",
    "\n",
    "mask_iv_prem_outlier = (combined_strats['iv_premium'] > dvol_premium_threshold) | (combined_strats['iv_premium'] < -dvol_premium_threshold)\n",
    "\n",
    "\n",
    "#first idea, when DVOL in range purchase options, otherwise do no not enter an option trade\n",
    "combined_strats['optionsV2_0'] = np.where( mask_iv_prem_outlier,0,combined_strats['optionReturns'])\n",
    "\n",
    "#second idea, when DVOL in range current perp strategy otherwise do no not enter a perp trade\n",
    "combined_strats['perpV2_0'] = np.where( mask_iv_prem_outlier,0,combined_strats['perpReturns'])\n",
    "\n",
    "#third idea, when DVOL in range purchase options, otherwise use perp strategy\n",
    "combined_strats['options_perp'] = np.where( mask_iv_prem_outlier,combined_strats['perpReturns'],combined_strats['optionReturns'])\n",
    "\n",
    "\n",
    "num_weeks = combined_strats.shape[0]\n",
    "optionV2_0_alpha = combined_strats.optionsV2_0.sum() / (num_weeks/52)\n",
    "option_perp_alpha = combined_strats.options_perp.sum() / (num_weeks/52)\n",
    "perpV2_0_alpha = combined_strats.perpV2_0.sum() / (num_weeks/52)\n",
    "\n",
    "\n",
    "print(\"IMPROVED STRATEGY TESTING\")\n",
    "print(\"Alpha APR% denominated in USD\")\n",
    "print(\"Results using a base Yield of 12% \\n\")\n",
    "print(\"Perp Imprv     {a:2.2f}%\".format(a=perp_alpha_enhanced))\n",
    "print(\"OptionBuy      {a:2.2f}%\\n\".format(a=option_buy_alpha))\n",
    "print(\"OptionV2.0     {a:2.2f}%\".format(a=optionV2_0_alpha))\n",
    "print(\"Perp Imprv2.0  {a:2.2f}%\".format(a=perpV2_0_alpha))\n",
    "print(\"Options+Perp   {a:2.2f}%\".format(a=option_perp_alpha))\n"
   ]
  },
  {
   "cell_type": "markdown",
   "id": "optimum-listing",
   "metadata": {},
   "source": [
    "We see promising results for not trading options in weeks were the DVOL premium is outside our range. Doing nothing in those weeks gives similar results to trading our perp strategy in those weeks. Importantly we are able to signficantly improve the trading alpha by using options in our weekly trading strategy. "
   ]
  },
  {
   "cell_type": "code",
   "execution_count": null,
   "id": "figured-regression",
   "metadata": {},
   "outputs": [],
   "source": []
  }
 ],
 "metadata": {
  "kernelspec": {
   "display_name": "Python 3",
   "language": "python",
   "name": "python3"
  },
  "language_info": {
   "codemirror_mode": {
    "name": "ipython",
    "version": 3
   },
   "file_extension": ".py",
   "mimetype": "text/x-python",
   "name": "python",
   "nbconvert_exporter": "python",
   "pygments_lexer": "ipython3",
   "version": "3.7.9"
  }
 },
 "nbformat": 4,
 "nbformat_minor": 5
}
